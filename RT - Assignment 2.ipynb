{
 "cells": [
  {
   "cell_type": "code",
   "execution_count": null,
   "id": "e1b46172",
   "metadata": {},
   "outputs": [],
   "source": [
    "'''\n",
    "1.What are the two values of the Boolean data type? How do you write them?\n",
    "\n",
    "Ans -->\n",
    "TRUE & FALSE are two values of Boolean data type and written as True , False.\n",
    "'''"
   ]
  },
  {
   "cell_type": "code",
   "execution_count": null,
   "id": "763914de",
   "metadata": {},
   "outputs": [],
   "source": [
    "'''\n",
    "2. What are the three different types of Boolean operators?\n",
    "\n",
    "Ans -->\n",
    "AND\n",
    "OR\n",
    "NOT\n",
    "\n",
    "'''"
   ]
  },
  {
   "cell_type": "code",
   "execution_count": null,
   "id": "1ddd9710",
   "metadata": {},
   "outputs": [],
   "source": [
    "'''\n",
    "3. Make a list of each Boolean operator's truth tables \n",
    "   (i.e. every possible combination of Boolean values for the operator and what it evaluate ).\n",
    "\n",
    "Ans -->\n",
    "\n",
    "AND\n",
    "0 0 0\n",
    "0 1 0\n",
    "1 0 0\n",
    "1 1 1\n",
    "\n",
    "OR\n",
    "0 0 0\n",
    "0 1 1\n",
    "1 0 1\n",
    "1 1 1\n",
    "\n",
    "NOT\n",
    "0 1\n",
    "1 0\n",
    "\n",
    "'''"
   ]
  },
  {
   "cell_type": "code",
   "execution_count": null,
   "id": "eebd799d",
   "metadata": {},
   "outputs": [],
   "source": [
    "'''\n",
    "4. What are the values of the following expressions?\n",
    "(5 > 4) and (3 == 5) --> False\n",
    "not (5 > 4) --> False\n",
    "(5 > 4) or (3 == 5) --> True\n",
    "not ((5 > 4) or (3 == 5)) --> False\n",
    "(True and True) and (True == False) --> False\n",
    "(not False) or (not True) --> True\n",
    "'''"
   ]
  },
  {
   "cell_type": "code",
   "execution_count": null,
   "id": "35c33780",
   "metadata": {},
   "outputs": [],
   "source": [
    "'''5. What are the six comparison operators?\n",
    "\n",
    ">  Greater than\n",
    "<  Less than\n",
    "== Equality\n",
    ">= Greater than equal to\n",
    "<= Less than equal to\n",
    "!= Not equal to\n",
    "\n",
    "'''"
   ]
  },
  {
   "cell_type": "code",
   "execution_count": null,
   "id": "229dc97a",
   "metadata": {},
   "outputs": [],
   "source": [
    "'''\n",
    "6. How do you tell the difference between the equal to and assignment operators?Describe a\n",
    "condition and when you would use one.\n",
    "\n",
    "i) == is equality operator used to compare if the two values being compared is equal or not\n",
    "   For eg. a == b, here we trying to compare 'a' & 'b' if they are equal or not.\n",
    "ii) = is assignment operator used to assign value to a variable\n",
    "   For eg. a = 8, here we are assigning value 8 to variable 'a'.\n",
    "'''"
   ]
  },
  {
   "cell_type": "code",
   "execution_count": null,
   "id": "e024e5cf",
   "metadata": {},
   "outputs": [],
   "source": [
    "'''\n",
    "7. Identify the three blocks in this code:\n",
    "'''\n",
    "\n",
    "spam = 0\n",
    "#Block 1\n",
    "if spam == 10:\n",
    "print('eggs')\n",
    "\n",
    "#Block 2\n",
    "if spam > 5:\n",
    "print('bacon')\n",
    "\n",
    "#Block 3\n",
    "else:\n",
    "print('ham')\n",
    "print('spam')\n",
    "print('spam')"
   ]
  },
  {
   "cell_type": "code",
   "execution_count": 9,
   "id": "57420e1b",
   "metadata": {},
   "outputs": [
    {
     "name": "stdout",
     "output_type": "stream",
     "text": [
      "Howdy\n"
     ]
    }
   ],
   "source": [
    "'''\n",
    "8. Write code that prints Hello if 1 is stored in spam, prints Howdy if 2 is stored in spam, and prints\n",
    "Greetings! if anything else is stored in spam.\n",
    "'''\n",
    "\n",
    "spam =2\n",
    "\n",
    "if spam == 1:\n",
    "    print('Hello')\n",
    "    \n",
    "elif spam == 2:\n",
    "    print('Howdy')\n",
    "    \n",
    "else:\n",
    "    print('Greetings!')"
   ]
  },
  {
   "cell_type": "code",
   "execution_count": null,
   "id": "b5754852",
   "metadata": {},
   "outputs": [],
   "source": [
    "'''\n",
    "9.If your programme is stuck in an endless loop, what keys you’ll press?\n",
    "\n",
    "Ans --> Restart kernel\n",
    "'''"
   ]
  },
  {
   "cell_type": "code",
   "execution_count": null,
   "id": "6b31adfb",
   "metadata": {},
   "outputs": [],
   "source": [
    "'''\n",
    "10. How can you tell the difference between break and continue?\n",
    "\n",
    "Ans --> \n",
    "Break : Terminates execution of current loop & comes out of the loop\n",
    "\n",
    "Continue : Skips the current iteration & goes for next execution\n",
    "'''"
   ]
  },
  {
   "cell_type": "code",
   "execution_count": null,
   "id": "fd733b2e",
   "metadata": {},
   "outputs": [],
   "source": [
    "'''\n",
    "11. In a for loop, what is the difference between range(10), range(0, 10), and range(0, 10, 1)?\n",
    "\n",
    "Ans --> range(10), range(1,10) and range(0,10,1) all are same. They will generate numbers 0 to 9 including 9 & excluding 10. \n",
    "        By default the step size is 1 even if it is not mentioned for first two.\n",
    "'''"
   ]
  },
  {
   "cell_type": "code",
   "execution_count": null,
   "id": "5b384cb1",
   "metadata": {},
   "outputs": [],
   "source": [
    "'''\n",
    "12. Write a short program that prints the numbers 1 to 10 using a for loop. Then write an equivalent\n",
    "program that prints the numbers 1 to 10 using a while loop.\n",
    "'''"
   ]
  },
  {
   "cell_type": "code",
   "execution_count": 14,
   "id": "9394d8d2",
   "metadata": {},
   "outputs": [
    {
     "name": "stdout",
     "output_type": "stream",
     "text": [
      "1\n",
      "2\n",
      "3\n",
      "4\n",
      "5\n",
      "6\n",
      "7\n",
      "8\n",
      "9\n",
      "10\n"
     ]
    }
   ],
   "source": [
    "# FOR Loop\n",
    "n =10\n",
    "for i in range(1,n+1):\n",
    "    print(i)"
   ]
  },
  {
   "cell_type": "code",
   "execution_count": 16,
   "id": "e972a5e8",
   "metadata": {},
   "outputs": [
    {
     "name": "stdout",
     "output_type": "stream",
     "text": [
      "1\n",
      "2\n",
      "3\n",
      "4\n",
      "5\n",
      "6\n",
      "7\n",
      "8\n",
      "9\n",
      "10\n"
     ]
    }
   ],
   "source": [
    "# WHILE Loop\n",
    "n=10\n",
    "i =1\n",
    "\n",
    "while i <= 10:\n",
    "    print(i)\n",
    "    i +=1"
   ]
  },
  {
   "cell_type": "code",
   "execution_count": null,
   "id": "9f231ecf",
   "metadata": {},
   "outputs": [],
   "source": [
    "'''\n",
    "13. If you had a function named bacon() inside a module named spam, how would you call it after\n",
    "importing spam?\n",
    "\n",
    "Ans -->\n",
    "\n",
    "import spam\n",
    "spam.bacon()\n",
    "'''"
   ]
  }
 ],
 "metadata": {
  "kernelspec": {
   "display_name": "Python 3 (ipykernel)",
   "language": "python",
   "name": "python3"
  },
  "language_info": {
   "codemirror_mode": {
    "name": "ipython",
    "version": 3
   },
   "file_extension": ".py",
   "mimetype": "text/x-python",
   "name": "python",
   "nbconvert_exporter": "python",
   "pygments_lexer": "ipython3",
   "version": "3.8.3"
  }
 },
 "nbformat": 4,
 "nbformat_minor": 5
}
