{
 "cells": [
  {
   "cell_type": "code",
   "execution_count": null,
   "id": "6d33052d",
   "metadata": {},
   "outputs": [],
   "source": [
    "'''\n",
    "1. What does an empty dictionary's code look like?\n",
    "Ans -->\n",
    "d = {}\n",
    "'''"
   ]
  },
  {
   "cell_type": "code",
   "execution_count": null,
   "id": "8a5d11b3",
   "metadata": {},
   "outputs": [],
   "source": [
    "'''\n",
    "2. What is the value of a dictionary value with the key 'foo' and the value 42?\n",
    "Ans -->\n",
    "42\n",
    "'''"
   ]
  },
  {
   "cell_type": "code",
   "execution_count": null,
   "id": "bff129cd",
   "metadata": {},
   "outputs": [],
   "source": [
    "'''\n",
    "3. What is the most significant distinction between a dictionary and a list?\n",
    "Ans -->\n",
    "Elements in dictionary are accessed via keys unlike indexes in list.\n",
    "Also, lists are ordered & dictionaries are unordered.\n",
    "'''"
   ]
  },
  {
   "cell_type": "code",
   "execution_count": null,
   "id": "9d2e3e5a",
   "metadata": {},
   "outputs": [],
   "source": [
    "'''\n",
    "4. What happens if you try to access spam['foo'] if spam is {'bar': 100}?\n",
    "Ans -->\n",
    "We will get key error as there is no key named 'foo'\n",
    "'''"
   ]
  },
  {
   "cell_type": "code",
   "execution_count": 3,
   "id": "aaced793",
   "metadata": {},
   "outputs": [],
   "source": [
    "spam = {'bar': 100}"
   ]
  },
  {
   "cell_type": "code",
   "execution_count": 4,
   "id": "7b5cdbbc",
   "metadata": {},
   "outputs": [
    {
     "data": {
      "text/plain": [
       "100"
      ]
     },
     "execution_count": 4,
     "metadata": {},
     "output_type": "execute_result"
    }
   ],
   "source": [
    "spam['bar']"
   ]
  },
  {
   "cell_type": "code",
   "execution_count": 5,
   "id": "5ed75d06",
   "metadata": {},
   "outputs": [
    {
     "ename": "KeyError",
     "evalue": "'foo'",
     "output_type": "error",
     "traceback": [
      "\u001b[1;31m---------------------------------------------------------------------------\u001b[0m",
      "\u001b[1;31mKeyError\u001b[0m                                  Traceback (most recent call last)",
      "Input \u001b[1;32mIn [5]\u001b[0m, in \u001b[0;36m<cell line: 1>\u001b[1;34m()\u001b[0m\n\u001b[1;32m----> 1\u001b[0m \u001b[43mspam\u001b[49m\u001b[43m[\u001b[49m\u001b[38;5;124;43m'\u001b[39;49m\u001b[38;5;124;43mfoo\u001b[39;49m\u001b[38;5;124;43m'\u001b[39;49m\u001b[43m]\u001b[49m\n",
      "\u001b[1;31mKeyError\u001b[0m: 'foo'"
     ]
    }
   ],
   "source": [
    "spam['foo']"
   ]
  },
  {
   "cell_type": "code",
   "execution_count": null,
   "id": "7997ee4e",
   "metadata": {},
   "outputs": [],
   "source": [
    "'''\n",
    "5. If a dictionary is stored in spam, what is the difference between the expressions 'cat' in spam and\n",
    "'car' in spam.keys()?\n",
    "Ans -->\n",
    "There is no difference. Both check whether 'cat' is present in keys in spam dict.\n",
    "'''"
   ]
  },
  {
   "cell_type": "code",
   "execution_count": 6,
   "id": "fed00a2d",
   "metadata": {},
   "outputs": [],
   "source": [
    "spam = {'cat':100}"
   ]
  },
  {
   "cell_type": "code",
   "execution_count": 7,
   "id": "0a006583",
   "metadata": {},
   "outputs": [
    {
     "data": {
      "text/plain": [
       "True"
      ]
     },
     "execution_count": 7,
     "metadata": {},
     "output_type": "execute_result"
    }
   ],
   "source": [
    "'cat' in spam"
   ]
  },
  {
   "cell_type": "code",
   "execution_count": 10,
   "id": "5dde9bb3",
   "metadata": {},
   "outputs": [
    {
     "data": {
      "text/plain": [
       "True"
      ]
     },
     "execution_count": 10,
     "metadata": {},
     "output_type": "execute_result"
    }
   ],
   "source": [
    "'cat' in spam.keys()"
   ]
  },
  {
   "cell_type": "code",
   "execution_count": null,
   "id": "1aecb8a7",
   "metadata": {},
   "outputs": [],
   "source": [
    "'''\n",
    "6. If a dictionary is stored in spam, what is the difference between the expressions 'cat' in spam and\n",
    "'car' in spam.values()?\n",
    "Ans -->\n",
    "'cat' in spam : checks whether 'cat' is present in keys in spam dict.\n",
    "'car' in spam.values() : checks whether 'cat' is present in values in spam dict.\n",
    "'''"
   ]
  },
  {
   "cell_type": "code",
   "execution_count": null,
   "id": "bf5035db",
   "metadata": {},
   "outputs": [],
   "source": [
    "'''\n",
    "7. What is a shortcut for the following code?\n",
    "if 'color' not in spam:\n",
    "spam['color'] = 'black'\n",
    "Ans -->\n",
    "spam.setdefault('color', 'black')\n",
    "The first argument passed to the method is the key to check for, and the second argument is the value to set at that key if \n",
    "the key does not exist. If the key does exist, the setdefault() method returns the key’s value.\n",
    "'''"
   ]
  },
  {
   "cell_type": "code",
   "execution_count": 11,
   "id": "0d90264c",
   "metadata": {},
   "outputs": [],
   "source": [
    "spam = {'name': 'Pooka', 'age': 5}"
   ]
  },
  {
   "cell_type": "code",
   "execution_count": 12,
   "id": "ec18c9b6",
   "metadata": {},
   "outputs": [
    {
     "data": {
      "text/plain": [
       "'black'"
      ]
     },
     "execution_count": 12,
     "metadata": {},
     "output_type": "execute_result"
    }
   ],
   "source": [
    "spam.setdefault('color', 'black')"
   ]
  },
  {
   "cell_type": "code",
   "execution_count": 13,
   "id": "5f2d98fd",
   "metadata": {},
   "outputs": [
    {
     "data": {
      "text/plain": [
       "{'name': 'Pooka', 'age': 5, 'color': 'black'}"
      ]
     },
     "execution_count": 13,
     "metadata": {},
     "output_type": "execute_result"
    }
   ],
   "source": [
    "spam"
   ]
  },
  {
   "cell_type": "code",
   "execution_count": 14,
   "id": "e4314c54",
   "metadata": {},
   "outputs": [
    {
     "data": {
      "text/plain": [
       "'black'"
      ]
     },
     "execution_count": 14,
     "metadata": {},
     "output_type": "execute_result"
    }
   ],
   "source": [
    "spam.setdefault('color', 'white') # Since 'color' keyword is already present, it does not update to white."
   ]
  },
  {
   "cell_type": "code",
   "execution_count": 15,
   "id": "850d2ec3",
   "metadata": {},
   "outputs": [
    {
     "data": {
      "text/plain": [
       "{'name': 'Pooka', 'age': 5, 'color': 'black'}"
      ]
     },
     "execution_count": 15,
     "metadata": {},
     "output_type": "execute_result"
    }
   ],
   "source": [
    "spam"
   ]
  },
  {
   "cell_type": "code",
   "execution_count": null,
   "id": "f87b61da",
   "metadata": {},
   "outputs": [],
   "source": [
    "'''\n",
    "8. How do you \"pretty print\" dictionary values using which module and function?\n",
    "Ans -->\n",
    "We need to use 'pprint' module & 'pprint' function.\n",
    "'''"
   ]
  },
  {
   "cell_type": "code",
   "execution_count": 18,
   "id": "8479f8d0",
   "metadata": {},
   "outputs": [
    {
     "name": "stdout",
     "output_type": "stream",
     "text": [
      "***** USING pprint()**********************\n",
      "[{'Age': '23', 'Country': 'USA', 'Name': 'John'},\n",
      " {'Age': '44', 'Country': 'Spain', 'Name': 'Jose'},\n",
      " {'Age': '29', 'Country': 'UK', 'Name': 'Anne'},\n",
      " {'Age': '35', 'Country': 'Japan', 'Name': 'Lee'}]\n",
      "***** USING print()**********************\n",
      "[{'Name': 'John', 'Age': '23', 'Country': 'USA'}, {'Name': 'Jose', 'Age': '44', 'Country': 'Spain'}, {'Name': 'Anne', 'Age': '29', 'Country': 'UK'}, {'Name': 'Lee', 'Age': '35', 'Country': 'Japan'}]\n"
     ]
    }
   ],
   "source": [
    "import pprint\n",
    "\n",
    "dct_arr = [\n",
    "  {'Name': 'John', 'Age': '23', 'Country': 'USA'},\n",
    "  {'Name': 'Jose', 'Age': '44', 'Country': 'Spain'},\n",
    "  {'Name': 'Anne', 'Age': '29', 'Country': 'UK'},\n",
    "  {'Name': 'Lee', 'Age': '35', 'Country': 'Japan'}\n",
    "]\n",
    "\n",
    "print('***** USING pprint()**********************')\n",
    "pprint.pprint(dct_arr)\n",
    "\n",
    "print('***** USING print()**********************')\n",
    "print(dct_arr)"
   ]
  },
  {
   "cell_type": "code",
   "execution_count": null,
   "id": "586eafc2",
   "metadata": {},
   "outputs": [],
   "source": []
  }
 ],
 "metadata": {
  "kernelspec": {
   "display_name": "Python 3 (ipykernel)",
   "language": "python",
   "name": "python3"
  },
  "language_info": {
   "codemirror_mode": {
    "name": "ipython",
    "version": 3
   },
   "file_extension": ".py",
   "mimetype": "text/x-python",
   "name": "python",
   "nbconvert_exporter": "python",
   "pygments_lexer": "ipython3",
   "version": "3.8.3"
  }
 },
 "nbformat": 4,
 "nbformat_minor": 5
}
