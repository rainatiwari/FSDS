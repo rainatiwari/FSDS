{
 "cells": [
  {
   "cell_type": "code",
   "execution_count": null,
   "id": "ced810e8",
   "metadata": {},
   "outputs": [],
   "source": [
    "'''1. What are escape characters, and how do you use them?\n",
    "Ans -->\n",
    "Escape sequences allow you to include special characters in strings. \n",
    "To do this, simply add a backslash (\\) before the character you want to escape.\n",
    "'''"
   ]
  },
  {
   "cell_type": "code",
   "execution_count": 1,
   "id": "7f3eaa9f",
   "metadata": {},
   "outputs": [
    {
     "name": "stdout",
     "output_type": "stream",
     "text": [
      "Hey, whats up?\n"
     ]
    }
   ],
   "source": [
    "s = 'Hey, whats up?'\n",
    "print(s)"
   ]
  },
  {
   "cell_type": "code",
   "execution_count": 2,
   "id": "2c84ad5c",
   "metadata": {},
   "outputs": [
    {
     "ename": "SyntaxError",
     "evalue": "invalid syntax (4186274551.py, line 1)",
     "output_type": "error",
     "traceback": [
      "\u001b[1;36m  Input \u001b[1;32mIn [2]\u001b[1;36m\u001b[0m\n\u001b[1;33m    s = 'Hey, what's up?'\u001b[0m\n\u001b[1;37m                   ^\u001b[0m\n\u001b[1;31mSyntaxError\u001b[0m\u001b[1;31m:\u001b[0m invalid syntax\n"
     ]
    }
   ],
   "source": [
    "# Using apostrophe withour escaping it will give error:\n",
    "\n",
    "s = 'Hey, what's up?'  \n",
    "print(s)"
   ]
  },
  {
   "cell_type": "code",
   "execution_count": 3,
   "id": "0cb62ed3",
   "metadata": {},
   "outputs": [
    {
     "name": "stdout",
     "output_type": "stream",
     "text": [
      "Hey, what's up?\n"
     ]
    }
   ],
   "source": [
    "# To fix this, just escape the apostrophe\n",
    "\n",
    "s = 'Hey, what\\'s up?'\n",
    "print(s)"
   ]
  },
  {
   "cell_type": "code",
   "execution_count": 4,
   "id": "d322eb65",
   "metadata": {},
   "outputs": [
    {
     "name": "stdout",
     "output_type": "stream",
     "text": [
      "C:\\Users\\Pat\\Desktop\n"
     ]
    }
   ],
   "source": [
    "#An important thing to remember is that, if you want to include a backslash character in a string, you will need to escape that. \n",
    "#For example, if you want to print a directory path in Windows, you'll need to escape each backslash in the string:\n",
    "\n",
    "print(\"C:\\\\Users\\\\Pat\\\\Desktop\")"
   ]
  },
  {
   "cell_type": "code",
   "execution_count": 5,
   "id": "06aeef78",
   "metadata": {},
   "outputs": [
    {
     "name": "stdout",
     "output_type": "stream",
     "text": [
      "Backslashes \\ don't need to be escaped in raw strings.\n"
     ]
    }
   ],
   "source": [
    "# A raw string can be used by prefixing the string with r or R, \n",
    "# which allows for backslashes to be included without the need to escape them. For example:\n",
    "\n",
    "print(r\"Backslashes \\ don't need to be escaped in raw strings.\")"
   ]
  },
  {
   "cell_type": "code",
   "execution_count": null,
   "id": "78096386",
   "metadata": {},
   "outputs": [],
   "source": [
    "'''\n",
    "2. What do the escape characters n and t stand for?\n",
    "Ans -->\n",
    "n = newline\n",
    "t = horizontal tab\n",
    "'''"
   ]
  },
  {
   "cell_type": "code",
   "execution_count": null,
   "id": "f8143700",
   "metadata": {},
   "outputs": [],
   "source": [
    "'''\n",
    "3. What is the way to include backslash characters in a string?\n",
    "Ans -->\n",
    "1. We can escape the backslash by adding a backslash before it.\n",
    "For eg:\n",
    "print(\"C:\\\\Users\\\\Pat\\\\Desktop\")\n",
    "'''"
   ]
  },
  {
   "cell_type": "code",
   "execution_count": null,
   "id": "74af16bc",
   "metadata": {},
   "outputs": [],
   "source": [
    "'''\n",
    "4. The string \"Howl's Moving Castle\" is a correct value. Why isn't the single quote character in the\n",
    "word Howl's not escaped a problem?\n",
    "Ans -->\n",
    "This won't give error becuase the string is wrapped in double quote.`\n",
    "'''"
   ]
  },
  {
   "cell_type": "code",
   "execution_count": null,
   "id": "af4428f7",
   "metadata": {},
   "outputs": [],
   "source": [
    "'''\n",
    "5. How do you write a string of newlines if you don't want to use the n character?\n",
    "Ans -->\n",
    "print('Raina',end='')\n",
    "\n",
    "'''"
   ]
  },
  {
   "cell_type": "code",
   "execution_count": null,
   "id": "b16e8afc",
   "metadata": {},
   "outputs": [],
   "source": [
    "'''\n",
    "6. What are the values of the given expressions?\n",
    "'Hello, world!'[1] --> e\n",
    "'Hello, world!'[0:5] --> Hello\n",
    "'Hello, world!'[:5] --> Hello\n",
    "'Hello, world!'[3:] --> lo, world!\n",
    "'''"
   ]
  },
  {
   "cell_type": "code",
   "execution_count": 6,
   "id": "fee77286",
   "metadata": {},
   "outputs": [
    {
     "data": {
      "text/plain": [
       "'e'"
      ]
     },
     "execution_count": 6,
     "metadata": {},
     "output_type": "execute_result"
    }
   ],
   "source": [
    "'Hello, world!'[1]"
   ]
  },
  {
   "cell_type": "code",
   "execution_count": 7,
   "id": "5cb65f37",
   "metadata": {},
   "outputs": [
    {
     "data": {
      "text/plain": [
       "'Hello'"
      ]
     },
     "execution_count": 7,
     "metadata": {},
     "output_type": "execute_result"
    }
   ],
   "source": [
    "'Hello, world!'[0:5]"
   ]
  },
  {
   "cell_type": "code",
   "execution_count": 8,
   "id": "bfcbeb89",
   "metadata": {},
   "outputs": [
    {
     "data": {
      "text/plain": [
       "'Hello'"
      ]
     },
     "execution_count": 8,
     "metadata": {},
     "output_type": "execute_result"
    }
   ],
   "source": [
    "'Hello, world!'[:5]"
   ]
  },
  {
   "cell_type": "code",
   "execution_count": 9,
   "id": "4d651240",
   "metadata": {},
   "outputs": [
    {
     "data": {
      "text/plain": [
       "'lo, world!'"
      ]
     },
     "execution_count": 9,
     "metadata": {},
     "output_type": "execute_result"
    }
   ],
   "source": [
    "'Hello, world!'[3:]"
   ]
  },
  {
   "cell_type": "code",
   "execution_count": null,
   "id": "9cf83e7c",
   "metadata": {},
   "outputs": [],
   "source": [
    "'''\n",
    "7. What are the values of the following expressions?\n",
    "'Hello'.upper() --> 'HELLO'\n",
    "'Hello'.upper().isupper() --> True\n",
    "'Hello'.upper().lower() --> 'hello'\n",
    "'''"
   ]
  },
  {
   "cell_type": "code",
   "execution_count": 10,
   "id": "078411a5",
   "metadata": {},
   "outputs": [
    {
     "data": {
      "text/plain": [
       "'HELLO'"
      ]
     },
     "execution_count": 10,
     "metadata": {},
     "output_type": "execute_result"
    }
   ],
   "source": [
    "'Hello'.upper()"
   ]
  },
  {
   "cell_type": "code",
   "execution_count": 11,
   "id": "fb860ce0",
   "metadata": {},
   "outputs": [
    {
     "data": {
      "text/plain": [
       "True"
      ]
     },
     "execution_count": 11,
     "metadata": {},
     "output_type": "execute_result"
    }
   ],
   "source": [
    "'Hello'.upper().isupper()"
   ]
  },
  {
   "cell_type": "code",
   "execution_count": 12,
   "id": "38957a30",
   "metadata": {},
   "outputs": [
    {
     "data": {
      "text/plain": [
       "'hello'"
      ]
     },
     "execution_count": 12,
     "metadata": {},
     "output_type": "execute_result"
    }
   ],
   "source": [
    "'Hello'.upper().lower()"
   ]
  },
  {
   "cell_type": "code",
   "execution_count": null,
   "id": "6478191b",
   "metadata": {},
   "outputs": [],
   "source": [
    "'''\n",
    "8. What are the values of the following expressions?\n",
    "'Remember, remember, the fifth of July.'.split()\n",
    "'-'.join('There can only one.'.split())\n",
    "'''"
   ]
  },
  {
   "cell_type": "code",
   "execution_count": 13,
   "id": "ebb7ef36",
   "metadata": {},
   "outputs": [
    {
     "data": {
      "text/plain": [
       "['Remember,', 'remember,', 'the', 'fifth', 'of', 'July.']"
      ]
     },
     "execution_count": 13,
     "metadata": {},
     "output_type": "execute_result"
    }
   ],
   "source": [
    "'Remember, remember, the fifth of July.'.split()"
   ]
  },
  {
   "cell_type": "code",
   "execution_count": 14,
   "id": "e97a232e",
   "metadata": {},
   "outputs": [
    {
     "data": {
      "text/plain": [
       "'There-can-only-one.'"
      ]
     },
     "execution_count": 14,
     "metadata": {},
     "output_type": "execute_result"
    }
   ],
   "source": [
    "'-'.join('There can only one.'.split())"
   ]
  },
  {
   "cell_type": "code",
   "execution_count": null,
   "id": "575d9f5b",
   "metadata": {},
   "outputs": [],
   "source": [
    "'''\n",
    "9. What are the methods for right-justifying, left-justifying, and centering a string?\n",
    "'''"
   ]
  },
  {
   "cell_type": "code",
   "execution_count": 16,
   "id": "daa4ec8f",
   "metadata": {},
   "outputs": [],
   "source": [
    "r = 'raina'"
   ]
  },
  {
   "cell_type": "code",
   "execution_count": 19,
   "id": "f74a792b",
   "metadata": {},
   "outputs": [
    {
     "data": {
      "text/plain": [
       "'_______raina________'"
      ]
     },
     "execution_count": 19,
     "metadata": {},
     "output_type": "execute_result"
    }
   ],
   "source": [
    "r.center(20,'_')"
   ]
  },
  {
   "cell_type": "code",
   "execution_count": 20,
   "id": "e4498e93",
   "metadata": {},
   "outputs": [
    {
     "data": {
      "text/plain": [
       "'raina_______________'"
      ]
     },
     "execution_count": 20,
     "metadata": {},
     "output_type": "execute_result"
    }
   ],
   "source": [
    "r.ljust(20,'_')"
   ]
  },
  {
   "cell_type": "code",
   "execution_count": 21,
   "id": "09fa1478",
   "metadata": {},
   "outputs": [
    {
     "data": {
      "text/plain": [
       "'_______________raina'"
      ]
     },
     "execution_count": 21,
     "metadata": {},
     "output_type": "execute_result"
    }
   ],
   "source": [
    "r.rjust(20,'_')"
   ]
  },
  {
   "cell_type": "code",
   "execution_count": null,
   "id": "d24c15f1",
   "metadata": {},
   "outputs": [],
   "source": [
    "'''\n",
    "10. What is the best way to remove whitespace characters from the start or end?\n",
    "'''"
   ]
  },
  {
   "cell_type": "code",
   "execution_count": 22,
   "id": "c9f631c1",
   "metadata": {},
   "outputs": [],
   "source": [
    "r = ' raina '"
   ]
  },
  {
   "cell_type": "code",
   "execution_count": 26,
   "id": "38f58951",
   "metadata": {},
   "outputs": [
    {
     "data": {
      "text/plain": [
       "'raina '"
      ]
     },
     "execution_count": 26,
     "metadata": {},
     "output_type": "execute_result"
    }
   ],
   "source": [
    "r.lstrip()"
   ]
  },
  {
   "cell_type": "code",
   "execution_count": 27,
   "id": "5eddc374",
   "metadata": {},
   "outputs": [
    {
     "data": {
      "text/plain": [
       "' raina'"
      ]
     },
     "execution_count": 27,
     "metadata": {},
     "output_type": "execute_result"
    }
   ],
   "source": [
    "r.rstrip()"
   ]
  },
  {
   "cell_type": "code",
   "execution_count": null,
   "id": "caa7a898",
   "metadata": {},
   "outputs": [],
   "source": []
  }
 ],
 "metadata": {
  "kernelspec": {
   "display_name": "Python 3 (ipykernel)",
   "language": "python",
   "name": "python3"
  },
  "language_info": {
   "codemirror_mode": {
    "name": "ipython",
    "version": 3
   },
   "file_extension": ".py",
   "mimetype": "text/x-python",
   "name": "python",
   "nbconvert_exporter": "python",
   "pygments_lexer": "ipython3",
   "version": "3.8.3"
  }
 },
 "nbformat": 4,
 "nbformat_minor": 5
}
