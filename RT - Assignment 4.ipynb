{
 "cells": [
  {
   "cell_type": "code",
   "execution_count": null,
   "id": "308c1bf3",
   "metadata": {},
   "outputs": [],
   "source": [
    "'''\n",
    "1. What exactly is []?\n",
    "Ans -->\n",
    "[] creates an empty list.\n",
    "'''"
   ]
  },
  {
   "cell_type": "code",
   "execution_count": null,
   "id": "7eaf492f",
   "metadata": {},
   "outputs": [],
   "source": [
    "'''\n",
    "2. In a list of values stored in a variable called spam, how would you assign the value 'hello' as the\n",
    "third value? (Assume [2, 4, 6, 8, 10] are in spam.)\n",
    "Ans -->\n",
    "spam[2] = 'hello'\n",
    "'''"
   ]
  },
  {
   "cell_type": "code",
   "execution_count": null,
   "id": "d14ab1ed",
   "metadata": {},
   "outputs": [],
   "source": [
    "'''\n",
    "Let's pretend the spam includes the list ['a','b','c','d'] for the next three queries.\n",
    "'''"
   ]
  },
  {
   "cell_type": "code",
   "execution_count": null,
   "id": "b78af878",
   "metadata": {},
   "outputs": [],
   "source": [
    "'''\n",
    "3. What is the value of spam[int(int('3'*2)/11)]?\n",
    "Ans -->\n",
    "d\n",
    "'''"
   ]
  },
  {
   "cell_type": "code",
   "execution_count": null,
   "id": "e9945905",
   "metadata": {},
   "outputs": [],
   "source": [
    "'''\n",
    "4. What is the value of spam[-1]?\n",
    "Ans -->\n",
    "d\n",
    "'''"
   ]
  },
  {
   "cell_type": "code",
   "execution_count": null,
   "id": "43ef9aa2",
   "metadata": {},
   "outputs": [],
   "source": [
    "'''\n",
    "5. What is the value of spam[:2]?\n",
    "Ans -->\n",
    "['a','b']\n",
    "'''"
   ]
  },
  {
   "cell_type": "code",
   "execution_count": null,
   "id": "619a08be",
   "metadata": {},
   "outputs": [],
   "source": [
    "'''\n",
    "Let';s pretend bacon has the list [3.14, 'cat',11,'cat', True] for the next three questions.\n",
    "'''"
   ]
  },
  {
   "cell_type": "code",
   "execution_count": null,
   "id": "ebaf83cb",
   "metadata": {},
   "outputs": [],
   "source": [
    "'''6. What is the value of bacon.index('cat')?\n",
    "Ans --> \n",
    "1\n",
    "'''"
   ]
  },
  {
   "cell_type": "code",
   "execution_count": null,
   "id": "091f7060",
   "metadata": {},
   "outputs": [],
   "source": [
    "'''\n",
    "7. How does bacon.append(99) change the look of the list value in bacon?\n",
    "Ans -->\n",
    "[3.14, 'cat', 11, 'cat', True, 99]\n",
    "'''"
   ]
  },
  {
   "cell_type": "code",
   "execution_count": null,
   "id": "e59277b3",
   "metadata": {},
   "outputs": [],
   "source": [
    "'''\n",
    "8. How does bacon.remove('cat') change the look of the list in bacon?\n",
    "Ans -->\n",
    "[3.14, 11, 'cat', True, 99]\n",
    "'''"
   ]
  },
  {
   "cell_type": "code",
   "execution_count": null,
   "id": "502cb55b",
   "metadata": {},
   "outputs": [],
   "source": [
    "'''\n",
    "9. What are the list concatenation and list replication operators?\n",
    "Ans -->\n",
    "l1 = [1,2]\n",
    "l2 = [3,4]\n",
    "List concatenation : l1 + l2 : O/P = [1, 2, 3, 4]\n",
    "List replication : l1 * 2 : O/P = [1, 2, 1, 2]\n",
    "'''"
   ]
  },
  {
   "cell_type": "code",
   "execution_count": null,
   "id": "6762fd6f",
   "metadata": {},
   "outputs": [],
   "source": [
    "'''10. What is difference between the list methods append() and insert()?\n",
    "Ans -->\n",
    "append() : Always appends value at the end of list. \n",
    "           For e.g. \n",
    "           l1 = [1,2,3,4]\n",
    "           l1.append(3)\n",
    "           l1\n",
    "           O/P = [1, 2, 3, 4, 3]\n",
    "           \n",
    "insert() : Inserts an element before the mentioned index\n",
    "           For e.g.\n",
    "           l1.insert(0,'a')\n",
    "           l1\n",
    "           ['a', 1, 2, 3, 4, 3]\n",
    "'''"
   ]
  },
  {
   "cell_type": "code",
   "execution_count": null,
   "id": "9272e691",
   "metadata": {},
   "outputs": [],
   "source": [
    "'''\n",
    "11. What are the two methods for removing items from a list?\n",
    "Ans -->\n",
    "1. Pop(): Removes & returns item at the mentioned index\n",
    "          For e.g.\n",
    "          l1.pop(0)\n",
    "          O/P='a'\n",
    "\n",
    "2. Remove(): Removes first occurence of an element\n",
    "             For e.g.\n",
    "             l1.remove(3)\n",
    "             l1\n",
    "             O/P=[1, 2, 4, 3]\n",
    "             \n",
    "             \n",
    "'''"
   ]
  },
  {
   "cell_type": "code",
   "execution_count": null,
   "id": "1eca48a9",
   "metadata": {},
   "outputs": [],
   "source": [
    "'''\n",
    "12. Describe how list values and string values are identical.\n",
    "Ans -->\n",
    "List values & string values both are iterable.\n",
    "We use index to access the elements. That is, indexing, slicing is possible in both.\n",
    "'''"
   ]
  },
  {
   "cell_type": "code",
   "execution_count": null,
   "id": "18c664d9",
   "metadata": {},
   "outputs": [],
   "source": [
    "'''\n",
    "13. What's the difference between tuples and lists?\n",
    "Ans -->\n",
    "Tuples are non mutable, that is we cannot change/modify any existing tuple element. Also, no new element can be added.\n",
    "Lists are mutable & existing elements can be modified. New elements can be added\n",
    "'''"
   ]
  },
  {
   "cell_type": "code",
   "execution_count": null,
   "id": "818ba5a9",
   "metadata": {},
   "outputs": [],
   "source": [
    "'''\n",
    "14. How do you type a tuple value that only contains the integer 42?\n",
    "Ans -->\n",
    "t = (42,)\n",
    "'''"
   ]
  },
  {
   "cell_type": "code",
   "execution_count": null,
   "id": "9afd1dbf",
   "metadata": {},
   "outputs": [],
   "source": [
    "'''\n",
    "15. How do you get a list value's tuple form? How do you get a tuple value's list form?\n",
    "Ans -->\n",
    "1. List values's tuple: tuple(list1)\n",
    "2. Tuple value's list : list(tupl1)\n",
    "'''"
   ]
  },
  {
   "cell_type": "code",
   "execution_count": null,
   "id": "972214b8",
   "metadata": {},
   "outputs": [],
   "source": [
    "'''\n",
    "16. Variables that \"contain\" list values are not necessarily lists themselves. Instead, what do they\n",
    "contain?\n",
    "Ans -->\n",
    "Variables contain 'references' to list values rather than list values themselves.\n",
    "But for strings and integer values, variables simply contain the string or integer value. \n",
    "Python uses references whenever variables must store values of mutable data types, such as lists or dictionaries. \n",
    "For values of immutable data types such as strings, integers, or tuples, Python variables will store the value itself.\n",
    "'''"
   ]
  },
  {
   "cell_type": "code",
   "execution_count": null,
   "id": "f3a987d4",
   "metadata": {},
   "outputs": [],
   "source": [
    "'''\n",
    "17. How do you distinguish between copy.copy() and copy.deepcopy()?\n",
    "Ans -->\n",
    "Deep copy is a process in which the copying process occurs recursively. \n",
    "It means first constructing a new collection object and then recursively populating it with copies of the child objects \n",
    "found in the original. In case of deep copy, a copy of object is copied in other object. \n",
    "It means that any changes made to a copy of object do not reflect in the original object. \n",
    "In python, this is implemented using “deepcopy()” function.\n",
    "\n",
    "A shallow copy means constructing a new collection object and then populating it with references to the child objects \n",
    "found in the original. The copying process does not recurse and therefore won’t create copies of the child objects themselves. \n",
    "In case of shallow copy, a reference of object is copied in other object. \n",
    "It means that any changes made to a copy of object do reflect in the original object. \n",
    "In python, this is implemented using “copy()” function.\n",
    "'''"
   ]
  }
 ],
 "metadata": {
  "kernelspec": {
   "display_name": "Python 3 (ipykernel)",
   "language": "python",
   "name": "python3"
  },
  "language_info": {
   "codemirror_mode": {
    "name": "ipython",
    "version": 3
   },
   "file_extension": ".py",
   "mimetype": "text/x-python",
   "name": "python",
   "nbconvert_exporter": "python",
   "pygments_lexer": "ipython3",
   "version": "3.8.3"
  }
 },
 "nbformat": 4,
 "nbformat_minor": 5
}
