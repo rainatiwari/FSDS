{
 "cells": [
  {
   "cell_type": "code",
   "execution_count": null,
   "id": "734aff69",
   "metadata": {},
   "outputs": [],
   "source": [
    "'''\n",
    "1. In the below elements which of them are values or an expression? \n",
    "eg:- values can be integer or string and expressions will be mathematical operators.\n",
    "* \n",
    "'hello' --> Values\n",
    "-87.8   --> Values\n",
    "-       --> Expressions\n",
    "/       --> Expressions\n",
    "+       --> Expressions\n",
    "6       --> Values\n",
    "\n",
    "'''"
   ]
  },
  {
   "cell_type": "code",
   "execution_count": null,
   "id": "03611f66",
   "metadata": {},
   "outputs": [],
   "source": [
    "'''\n",
    "2. What is the difference between string and variable?\n",
    "\n",
    "String   --> a set of characters\n",
    "variable --> a placeholder to store values\n",
    "'''"
   ]
  },
  {
   "cell_type": "code",
   "execution_count": null,
   "id": "a774af64",
   "metadata": {},
   "outputs": [],
   "source": [
    "'''\n",
    "3. Describe three different data types.\n",
    "Ans:\n",
    "1. String : Set of characters. For eg. 'rain'\n",
    "2. List : set of non-homogeneous elements. For eg. ['rain',1,True,9.0]\n",
    "3. Dictionary : set of key-value pairs in curly braces. For eg. {1:'a',2:'b',3:'c'}\n",
    "'''"
   ]
  },
  {
   "cell_type": "code",
   "execution_count": null,
   "id": "23c6e1c0",
   "metadata": {},
   "outputs": [],
   "source": [
    "'''\n",
    "4. What is an expression made up of? What do all expressions do?\n",
    "Ans:\n",
    "Expression is made up of values with atleast 1 mathematical operation. They are used for evaluation purpose.\n",
    "'''"
   ]
  },
  {
   "cell_type": "code",
   "execution_count": null,
   "id": "76a9ce62",
   "metadata": {},
   "outputs": [],
   "source": [
    "'''\n",
    "5. This assignment statements, like spam = 10. What is the difference between an expression and a statement?\n",
    "Ans:\n",
    "Expression -> piece of code that evaluates to a value.\n",
    "Statments -> executes specific instruction and tells computer to do that.\n",
    "'''"
   ]
  },
  {
   "cell_type": "code",
   "execution_count": null,
   "id": "97ad3a67",
   "metadata": {},
   "outputs": [],
   "source": [
    "'''\n",
    "6. After running the following code, what does the variable bacon contain?\n",
    "bacon = 22\n",
    "bacon + 1\n",
    "Ans:\n",
    "23\n",
    "'''"
   ]
  },
  {
   "cell_type": "code",
   "execution_count": 2,
   "id": "b33f4385",
   "metadata": {},
   "outputs": [
    {
     "data": {
      "text/plain": [
       "23"
      ]
     },
     "execution_count": 2,
     "metadata": {},
     "output_type": "execute_result"
    }
   ],
   "source": [
    "bacon=22\n",
    "bacon+1"
   ]
  },
  {
   "cell_type": "code",
   "execution_count": null,
   "id": "9ff4d71e",
   "metadata": {},
   "outputs": [],
   "source": [
    "'''\n",
    "7. What should the values of the following two terms be?\n",
    "'spam' + 'spamspam'\n",
    "'spam' * 3\n",
    "Ans:\n",
    "spamspamspam\n",
    "spamspamspam\n",
    "'''"
   ]
  },
  {
   "cell_type": "code",
   "execution_count": 3,
   "id": "27822794",
   "metadata": {},
   "outputs": [
    {
     "data": {
      "text/plain": [
       "'spamspamspam'"
      ]
     },
     "execution_count": 3,
     "metadata": {},
     "output_type": "execute_result"
    }
   ],
   "source": [
    "'spam' + 'spamspam'"
   ]
  },
  {
   "cell_type": "code",
   "execution_count": 4,
   "id": "7825188b",
   "metadata": {},
   "outputs": [
    {
     "data": {
      "text/plain": [
       "'spamspamspam'"
      ]
     },
     "execution_count": 4,
     "metadata": {},
     "output_type": "execute_result"
    }
   ],
   "source": [
    "'spam' * 3"
   ]
  },
  {
   "cell_type": "code",
   "execution_count": null,
   "id": "6d32c51c",
   "metadata": {},
   "outputs": [],
   "source": [
    "'''\n",
    "8. Why is eggs a valid variable name while 100 is invalid?\n",
    "Ans:\n",
    "Variable name should start with letter or underscore and not number.\n",
    "'''"
   ]
  },
  {
   "cell_type": "code",
   "execution_count": null,
   "id": "ecc4ab14",
   "metadata": {},
   "outputs": [],
   "source": [
    "'''\n",
    "9. What three functions can be used to get the integer, floating-point number, or string version of a value?\n",
    "Ans:\n",
    "int()\n",
    "float()\n",
    "str()\n",
    "'''"
   ]
  },
  {
   "cell_type": "code",
   "execution_count": 6,
   "id": "39fc50d4",
   "metadata": {},
   "outputs": [
    {
     "data": {
      "text/plain": [
       "2"
      ]
     },
     "execution_count": 6,
     "metadata": {},
     "output_type": "execute_result"
    }
   ],
   "source": [
    "i = '2'\n",
    "int(i)"
   ]
  },
  {
   "cell_type": "code",
   "execution_count": 7,
   "id": "0f239242",
   "metadata": {},
   "outputs": [
    {
     "data": {
      "text/plain": [
       "2.0"
      ]
     },
     "execution_count": 7,
     "metadata": {},
     "output_type": "execute_result"
    }
   ],
   "source": [
    "float(i)"
   ]
  },
  {
   "cell_type": "code",
   "execution_count": 8,
   "id": "766ef0e9",
   "metadata": {},
   "outputs": [
    {
     "data": {
      "text/plain": [
       "'2'"
      ]
     },
     "execution_count": 8,
     "metadata": {},
     "output_type": "execute_result"
    }
   ],
   "source": [
    "str('2')"
   ]
  },
  {
   "cell_type": "code",
   "execution_count": null,
   "id": "8b35a247",
   "metadata": {},
   "outputs": [],
   "source": [
    "'''\n",
    "10. Why does this expression cause an error? How can you fix it?\n",
    "'I have eaten ' + 99 + ' burritos.'\n",
    "Ans:\n",
    "We are getting error due to single quotation used at start and end of string as well as in between.\n",
    "'''"
   ]
  },
  {
   "cell_type": "code",
   "execution_count": 10,
   "id": "588fc970",
   "metadata": {},
   "outputs": [
    {
     "data": {
      "text/plain": [
       "\"I have eaten ' + 99 + ' burritos.\""
      ]
     },
     "execution_count": 10,
     "metadata": {},
     "output_type": "execute_result"
    }
   ],
   "source": [
    "'''I have eaten ' + 99 + ' burritos.'''"
   ]
  }
 ],
 "metadata": {
  "kernelspec": {
   "display_name": "Python 3 (ipykernel)",
   "language": "python",
   "name": "python3"
  },
  "language_info": {
   "codemirror_mode": {
    "name": "ipython",
    "version": 3
   },
   "file_extension": ".py",
   "mimetype": "text/x-python",
   "name": "python",
   "nbconvert_exporter": "python",
   "pygments_lexer": "ipython3",
   "version": "3.8.3"
  }
 },
 "nbformat": 4,
 "nbformat_minor": 5
}
